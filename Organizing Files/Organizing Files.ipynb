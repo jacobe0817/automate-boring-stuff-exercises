{
 "cells": [
  {
   "cell_type": "code",
   "execution_count": null,
   "id": "28e92685",
   "metadata": {},
   "outputs": [],
   "source": [
    "#1"
   ]
  },
  {
   "cell_type": "code",
   "execution_count": 1,
   "id": "4b1e417f",
   "metadata": {},
   "outputs": [],
   "source": [
    "import os\n",
    "import shutil\n",
    "import pyinputplus as pyip\n",
    "import sys\n",
    "import re"
   ]
  },
  {
   "cell_type": "code",
   "execution_count": 2,
   "id": "694be720",
   "metadata": {},
   "outputs": [],
   "source": [
    "def is_path_valid(path):\n",
    "    try:\n",
    "        os.path.abspath(path)\n",
    "    except Exception:\n",
    "        'Invalid path, try again'"
   ]
  },
  {
   "cell_type": "code",
   "execution_count": 3,
   "id": "892db43e",
   "metadata": {},
   "outputs": [],
   "source": [
    "def copy_extension():\n",
    "    extension = input('Enter an extension (ex: \\'txt\\'):\\n')\n",
    "    \n",
    "    search_folder = pyip.inputCustom(is_path_valid, '\\nEnter the path of the directory to search: ')\n",
    "    search_folder = os.path.abspath(search_folder)\n",
    "    \n",
    "    if not os.path.exists(search_folder):\n",
    "        print('Path not found')\n",
    "        return\n",
    "    \n",
    "    yes_no = pyip.inputYesNo('\\nCopying from: ' + search_folder + '\\nWould you like to proceed? Enter (y)es or (n)o: ')\n",
    "    if yes_no == 'no':\n",
    "        return\n",
    "    print()\n",
    "    \n",
    "    files_to_copy = []\n",
    "    for foldername, subfolders, filenames in os.walk(search_folder):\n",
    "        for a_file in filenames:\n",
    "            if a_file.endswith(extension):\n",
    "                file_to_copy = os.path.relpath(os.path.join(foldername, a_file), search_folder)\n",
    "                print('File found: ' + file_to_copy)\n",
    "                files_to_copy.append(file_to_copy)\n",
    "    yes_no = pyip.inputYesNo('\\nWould you like to proceed? Enter (y)es or (n)o: ')\n",
    "    \n",
    "    new_folder = pyip.inputCustom(is_path_valid, '\\nEnter the path of the directory to be copied to: ')\n",
    "    new_folder = os.path.abspath(new_folder)\n",
    "    \n",
    "    yes_no = pyip.inputYesNo('\\nCopying to: ' + new_folder + '\\nWould you like to proceed? Enter (y)es or (n)o: ')\n",
    "    if yes_no == 'no':\n",
    "        return\n",
    "    \n",
    "    os.makedirs(new_folder)\n",
    "    for a_file in files_to_copy:\n",
    "        shutil.copy(a_file, new_folder)\n"
   ]
  },
  {
   "cell_type": "code",
   "execution_count": null,
   "id": "7984196b",
   "metadata": {},
   "outputs": [],
   "source": [
    "copy_extension()"
   ]
  },
  {
   "cell_type": "code",
   "execution_count": null,
   "id": "a84f742d",
   "metadata": {},
   "outputs": [],
   "source": [
    "#2"
   ]
  },
  {
   "cell_type": "code",
   "execution_count": 4,
   "id": "5df84af4",
   "metadata": {},
   "outputs": [],
   "source": [
    "def get_subfolder_bytes(path):\n",
    "    total_size = 0\n",
    "    for foldername, subfolders, filenames in os.walk(path):\n",
    "        for filename in filenames:\n",
    "            file_path = os.path.join(foldername, filename)\n",
    "            if not os.path.islink(file_path):\n",
    "                total_size += os.path.getsize(file_path)\n",
    "    return total_size"
   ]
  },
  {
   "cell_type": "code",
   "execution_count": null,
   "id": "882dafe1",
   "metadata": {},
   "outputs": [],
   "source": [
    "target_size = pyip.inputNum('\\nEnter the minimum number of MB to flag: ', min=0)\n",
    "\n",
    "while True:\n",
    "    search_path = pyip.inputCustom(is_path_valid, 'Enter the path of the directory to be searched: ')\n",
    "    if not os.path.exists(search_path):\n",
    "        print('Path not found\\n')\n",
    "        continue\n",
    "    search_path = os.path.abspath(search_path)\n",
    "\n",
    "    yes_no = pyip.inputYesNo('\\n' + search_path + '\\nIs the search path correct? Enter (y)es or (n)o: ')\n",
    "    if yes_no == 'yes':\n",
    "        break\n",
    "    print()\n",
    "\n",
    "print()\n",
    "for foldername, subfolders, filenames in os.walk(search_path):\n",
    "    print_folder_name = False\n",
    "    for subfolder in subfolders:\n",
    "        folder_size = get_subfolder_bytes(os.path.join(foldername, subfolder)) * 9.537e-7\n",
    "        if folder_size >= target_size:\n",
    "            if not print_folder_name:\n",
    "                print_folder_name = True\n",
    "                print(f'{foldername}...')\n",
    "            print('\\tFolder flagged: {:} is {:.2f} MB'.format(os.path.relpath(os.path.join(foldername, subfolder), foldername), folder_size))\n",
    "    for filename in filenames:\n",
    "        file_size = os.path.getsize(os.path.join(foldername, filename)) * 9.537e-7\n",
    "        if file_size >= target_size:\n",
    "            if not print_folder_name:\n",
    "                print_folder_name = True\n",
    "                print(f'{foldername}...')\n",
    "            print('\\tFile flagged: {:} is {:.2f} MB'.format(os.path.relpath(os.path.join(foldername, filename), foldername), file_size))\n",
    "    if print_folder_name:\n",
    "        print()"
   ]
  },
  {
   "cell_type": "code",
   "execution_count": null,
   "id": "eb6f7940",
   "metadata": {},
   "outputs": [],
   "source": [
    "#3"
   ]
  },
  {
   "cell_type": "code",
   "execution_count": 2,
   "id": "6a51b8e8",
   "metadata": {},
   "outputs": [],
   "source": [
    "def is_dir_valid(path):\n",
    "    if not os.path.isdir(path):\n",
    "        raise Exception('Directory not found')"
   ]
  },
  {
   "cell_type": "code",
   "execution_count": 3,
   "id": "c37cdc62",
   "metadata": {},
   "outputs": [],
   "source": [
    "def left_pad_integer(num, length, char='0'):\n",
    "    num = str(num)\n",
    "    if len(num) > length:\n",
    "        raise Exception('The new file number would exceed the specified length (ex: spam100.txt when you specified the number should be length 2)')\n",
    "    while len(num) < length:\n",
    "        num = char + num\n",
    "    return num"
   ]
  },
  {
   "cell_type": "code",
   "execution_count": 4,
   "id": "0e863235",
   "metadata": {},
   "outputs": [],
   "source": [
    "def get_number_from_regex_match(match):\n",
    "    return int(match[1])"
   ]
  },
  {
   "cell_type": "code",
   "execution_count": 5,
   "id": "569c6742",
   "metadata": {},
   "outputs": [],
   "source": [
    "def get_filename_regex(prefix, extension):\n",
    "    return re.compile('^' + prefix + r'(\\d+)\\.' + extension + '$')"
   ]
  },
  {
   "cell_type": "code",
   "execution_count": 6,
   "id": "3a93cd05",
   "metadata": {},
   "outputs": [],
   "source": [
    "def close_file_number_gap(search_path, prefix, extension, padded_file_number_length):    \n",
    "    filename_regex = get_filename_regex(prefix, extension)\n",
    "    \n",
    "    files_to_rename = []\n",
    "    for filename in os.listdir(search_path):\n",
    "        if os.path.isfile(os.path.join(search_path, filename)):\n",
    "            match = filename_regex.search(filename)\n",
    "            if match is not None:\n",
    "                files_to_rename.append(match)\n",
    "    if len(files_to_rename) == 0:\n",
    "        print('\\nNo matches found given specified prefix and extension.')\n",
    "        return\n",
    "        \n",
    "    files_to_rename.sort(key=get_number_from_regex_match)\n",
    "    \n",
    "    print('\\nThe following renamings will occur:')\n",
    "    rename_dict = {}\n",
    "    for i, match in enumerate(files_to_rename):\n",
    "        rename_dict[match[0]] = prefix + left_pad_integer(i + 1, padded_file_number_length) + '.' + extension\n",
    "        print('    ' + match[0] + '    ->    ' + rename_dict[match[0]])\n",
    "        \n",
    "\n",
    "    yes_no = pyip.inputYesNo('\\nWould you like to proceed? Enter (y)es or (n)o: ')\n",
    "    if yes_no == 'no':\n",
    "        return\n",
    "    \n",
    "    for key in rename_dict.keys():\n",
    "        shutil.move(os.path.join(search_path, key), os.path.join(search_path, rename_dict[key]))\n",
    "        \n",
    "    print('\\nDone.')\n",
    "    return rename_dict.values()"
   ]
  },
  {
   "cell_type": "code",
   "execution_count": 7,
   "id": "a1248394",
   "metadata": {},
   "outputs": [],
   "source": [
    "def insert_file_number_gap(search_path, prefix, extension, padded_file_number_length, current_files):\n",
    "    filename_regex = get_filename_regex(prefix, extension)\n",
    "    current_matches = []\n",
    "    for filename in current_files:\n",
    "        match = filename_regex.search(filename)\n",
    "        if match is not None:\n",
    "            current_matches.append(match)\n",
    "    \n",
    "    current_matches.sort(key=get_number_from_regex_match)\n",
    "    print('    -> 0.')\n",
    "    for i, match in enumerate(current_matches):\n",
    "        print('    -> ' + str(i + 1) + '. ' + match[0])\n",
    "        \n",
    "    gap_index = pyip.inputInt('\\nEnter the number corresponding to the file you would like to insert the gap AFTER: ', min=0, max=len(current_files))\n",
    "    gap_amount = pyip.inputInt('\\nEnter the number of blanks you would like to insert (ex: \\'2\\' to skip from spam03 to spam06)', min=0)\n",
    "    \n",
    "    print('\\nThe following renamings will occur:')\n",
    "    rename_dict = {}\n",
    "    for i, match in enumerate(current_matches):\n",
    "        if i < gap_index:\n",
    "            rename_dict[match[0]] = match[0]\n",
    "        else:\n",
    "            rename_dict[match[0]] = prefix + left_pad_integer(int(match[1]) + gap_amount, padded_file_number_length) + '.' + extension\n",
    "        print('    ' + match[0] + '    ->    ' + rename_dict[match[0]])\n",
    "    \n",
    "    yes_no = pyip.inputYesNo('\\nWould you like to proceed? Enter (y)es or (n)o: ')\n",
    "    if yes_no == 'no':\n",
    "        return\n",
    "    \n",
    "    for key in rename_dict.keys():\n",
    "        shutil.move(os.path.join(search_path, key), os.path.join(search_path, rename_dict[key]))\n",
    "        \n",
    "    print('\\nDone.')\n",
    "    return rename_dict.values()"
   ]
  },
  {
   "cell_type": "code",
   "execution_count": 8,
   "id": "46e53889",
   "metadata": {},
   "outputs": [],
   "source": [
    "def main_3():\n",
    "    search_path = pyip.inputCustom(is_dir_valid, '\\nEnter the path of the directory to be searched: ')\n",
    "    search_path = os.path.abspath(search_path)\n",
    "    \n",
    "    yes_no = pyip.inputYesNo('\\n' + search_path + '\\nIs the search path correct? Enter (y)es or (n)o: ')\n",
    "    if yes_no == 'no':\n",
    "        return\n",
    "    \n",
    "    print('\\nFiles found:')\n",
    "    file_count = 0\n",
    "    for filename in os.listdir(search_path):\n",
    "        if os.path.isfile(os.path.join(search_path, filename)):\n",
    "            print('    -> ' + filename)\n",
    "            file_count += 1\n",
    "    if file_count == 0:\n",
    "        print('    No files found.')\n",
    "        return\n",
    "    \n",
    "    prefix = input('\\nEnter the prefix of the files to be renamed: ')\n",
    "    extension = input('\\nEnter the extension of the files to be renamed (ex: \\'txt\\'): ')\n",
    "    padded_file_number_length = pyip.inputInt('\\nEnter the length the file number should be after left padding with zeroes (ex: for 012 enter \\'3\\'): ', min=1)\n",
    "    \n",
    "    new_names = close_file_number_gap(search_path, prefix, extension, padded_file_number_length)\n",
    "    \n",
    "    while True:\n",
    "        if new_names == None:\n",
    "            return\n",
    "        yes_no = pyip.inputYesNo('\\nWould you like to insert a gap in the file numbers? Enter (y)es or (n)o: ')\n",
    "        if yes_no == 'no':\n",
    "            return\n",
    "        new_names = insert_file_number_gap(search_path, prefix, extension, padded_file_number_length, new_names)"
   ]
  },
  {
   "cell_type": "code",
   "execution_count": 9,
   "id": "831877f0",
   "metadata": {},
   "outputs": [
    {
     "name": "stdout",
     "output_type": "stream",
     "text": [
      "\n",
      "Enter the path of the directory to be searched: try e\n",
      "\n",
      "C:\\Users\\jacob\\Documents\\CompSci\\PythonProjects\\Automate the Boring Stuff\\try e\n",
      "Is the search path correct? Enter (y)es or (n)o: y\n",
      "\n",
      "Files found:\n",
      "    -> hat1.txt\n",
      "    -> hat2.txt\n",
      "    -> hat45.txt\n",
      "\n",
      "Enter the prefix of the files to be renamed: hat\n",
      "\n",
      "Enter the extension of the files to be renamed (ex: 'txt'): txt\n",
      "\n",
      "Enter the length the file number should be after left padding with zeroes (ex: for 012 enter '3'): 3\n",
      "\n",
      "The following renamings will occur:\n",
      "    hat1.txt    ->    hat001.txt\n",
      "    hat2.txt    ->    hat002.txt\n",
      "    hat45.txt    ->    hat003.txt\n",
      "\n",
      "Would you like to proceed? Enter (y)es or (n)o: y\n",
      "\n",
      "Done.\n",
      "\n",
      "Would you like to insert a gap in the file numbers? Enter (y)es or (n)o: y\n",
      "    -> 0.\n",
      "    -> 1. hat001.txt\n",
      "    -> 2. hat002.txt\n",
      "    -> 3. hat003.txt\n",
      "\n",
      "Enter the number corresponding to the file you would like to insert the gap AFTER: 1\n",
      "\n",
      "Enter the number of blanks you would like to insert (ex: '2' to skip from spam03 to spam06)11\n",
      "\n",
      "The following renamings will occur:\n",
      "    hat001.txt    ->    hat001.txt\n",
      "    hat002.txt    ->    hat013.txt\n",
      "    hat003.txt    ->    hat014.txt\n",
      "\n",
      "Would you like to proceed? Enter (y)es or (n)o: y\n",
      "\n",
      "Done.\n",
      "\n",
      "Would you like to insert a gap in the file numbers? Enter (y)es or (n)o: n\n"
     ]
    }
   ],
   "source": [
    "main_3()"
   ]
  },
  {
   "cell_type": "code",
   "execution_count": null,
   "id": "c0950a59",
   "metadata": {},
   "outputs": [],
   "source": []
  }
 ],
 "metadata": {
  "kernelspec": {
   "display_name": "Python 3 (ipykernel)",
   "language": "python",
   "name": "python3"
  },
  "language_info": {
   "codemirror_mode": {
    "name": "ipython",
    "version": 3
   },
   "file_extension": ".py",
   "mimetype": "text/x-python",
   "name": "python",
   "nbconvert_exporter": "python",
   "pygments_lexer": "ipython3",
   "version": "3.9.12"
  }
 },
 "nbformat": 4,
 "nbformat_minor": 5
}
