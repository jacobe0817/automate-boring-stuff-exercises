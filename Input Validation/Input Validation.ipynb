{
 "cells": [
  {
   "cell_type": "code",
   "execution_count": null,
   "id": "a3c30fa6",
   "metadata": {},
   "outputs": [],
   "source": [
    "import pyinputplus as pyip\n",
    "import random as rand\n",
    "import time"
   ]
  },
  {
   "cell_type": "code",
   "execution_count": null,
   "id": "71fed862",
   "metadata": {},
   "outputs": [],
   "source": [
    "bread = []\n",
    "bread.append('white')\n",
    "bread.append('wheat')\n",
    "bread.append('sourdough')\n",
    "\n",
    "customer_bread = pyip.inputMenu(bread, 'Please select a type of bread:\\n')\n",
    "\n",
    "protein = []\n",
    "protein.append('chicken')\n",
    "protein.append('turkey')\n",
    "protein.append('ham')\n",
    "protein.append('tofu')\n",
    "\n",
    "customer_protein = pyip.inputMenu(protein, '\\nPlease select a type of protein:\\n')\n",
    "\n",
    "customer_cheese = pyip.inputYesNo('\\nWould you like cheese? (yes/no)\\n')\n",
    "\n",
    "cheese = []\n",
    "cheese.append('cheddar')\n",
    "cheese.append('swiss')\n",
    "cheese.append('mozzarella')\n",
    "\n",
    "if customer_cheese == 'yes':\n",
    "    customer_cheese = pyip.inputMenu(cheese, '\\nPlease select a type of cheese:\\n')\n",
    "\n",
    "num_sandwiches = pyip.inputInt('\\nHow many sandwiches would you like?\\n', min=1)\n",
    "\n",
    "prices = {'white': 1, 'wheat': 2, 'sourdough': 3, 'chicken': 1, 'turkey': 1, 'ham': 2, 'tofu': 3, 'cheddar': .5, 'swiss' : .75, 'mozzarella' : 1}\n",
    "\n",
    "unit_cost = 0\n",
    "\n",
    "for key in prices.keys():\n",
    "    if customer_bread == key:\n",
    "        unit_cost += prices[key]\n",
    "    elif customer_protein == key:\n",
    "        unit_cost += prices[key]\n",
    "    elif customer_cheese == key:\n",
    "        unit_cost += prices[key]\n",
    "        \n",
    "total_cost = unit_cost * num_sandwiches\n",
    "        \n",
    "print('Your total cost is $%s' % total_cost)"
   ]
  },
  {
   "cell_type": "code",
   "execution_count": null,
   "id": "72e9a3a7",
   "metadata": {},
   "outputs": [],
   "source": [
    "numberOfQuestions = 10\n",
    "correctAnswers = 0\n",
    "\n",
    "for questionNumber in range(numberOfQuestions):\n",
    "    num1 = rand.randint(0, 9)\n",
    "    num2 = rand.randint(0, 9)\n",
    "    \n",
    "    prompt = '#%s: %s x %s = ' % (questionNumber + 1, num1, num2)\n",
    "    \n",
    "    try:\n",
    "        pyip.inputStr(prompt, allowRegexes=['^%s$' % (num1 * num2)], blockRegexes=[('.*', 'Incorrect!\\n')], timeout=8, limit=3)\n",
    "    except pyip.TimeoutException:\n",
    "        print('Out of time!\\n')\n",
    "    except pyip.RetryLimitException:\n",
    "        print('Out of tries!\\n')\n",
    "    else:\n",
    "        print('Correct!\\n')\n",
    "        correctAnswers += 1\n",
    "    time.sleep(1)\n",
    "print('Score: %s / %s' % (correctAnswers, numberOfQuestions))"
   ]
  },
  {
   "cell_type": "code",
   "execution_count": null,
   "id": "212d588b",
   "metadata": {},
   "outputs": [],
   "source": []
  }
 ],
 "metadata": {
  "kernelspec": {
   "display_name": "Python 3 (ipykernel)",
   "language": "python",
   "name": "python3"
  },
  "language_info": {
   "codemirror_mode": {
    "name": "ipython",
    "version": 3
   },
   "file_extension": ".py",
   "mimetype": "text/x-python",
   "name": "python",
   "nbconvert_exporter": "python",
   "pygments_lexer": "ipython3",
   "version": "3.9.12"
  }
 },
 "nbformat": 4,
 "nbformat_minor": 5
}
