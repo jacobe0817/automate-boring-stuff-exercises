{
 "cells": [
  {
   "cell_type": "code",
   "execution_count": 1,
   "id": "5658a20f",
   "metadata": {},
   "outputs": [],
   "source": [
    "import re"
   ]
  },
  {
   "cell_type": "code",
   "execution_count": 2,
   "id": "28d1d232",
   "metadata": {},
   "outputs": [
    {
     "data": {
      "text/plain": [
       "'X'"
      ]
     },
     "execution_count": 2,
     "metadata": {},
     "output_type": "execute_result"
    }
   ],
   "source": [
    "num_regex = re.compile(r'^(\\d{1,3},)?(\\d{3},)*\\d{1,3}$')\n",
    "num_regex.sub('X', '489,421,243')"
   ]
  },
  {
   "cell_type": "code",
   "execution_count": 3,
   "id": "cc4857d5",
   "metadata": {},
   "outputs": [
    {
     "data": {
      "text/plain": [
       "'X'"
      ]
     },
     "execution_count": 3,
     "metadata": {},
     "output_type": "execute_result"
    }
   ],
   "source": [
    "name_regex = re.compile(r'^[A-Z][a-z]* Watanabe$')\n",
    "name_regex.sub('X', 'Haruto Watanabe')"
   ]
  },
  {
   "cell_type": "code",
   "execution_count": 4,
   "id": "1d566275",
   "metadata": {},
   "outputs": [
    {
     "data": {
      "text/plain": [
       "'X'"
      ]
     },
     "execution_count": 4,
     "metadata": {},
     "output_type": "execute_result"
    }
   ],
   "source": [
    "sentence_regex = re.compile(r'^(Alice|Bob|Carol) (eats|pets|throws) (apples|cats|baseballs)\\.$', re.IGNORECASE)\n",
    "sentence_regex.sub('X', 'boB eAts BASEballS.')"
   ]
  },
  {
   "cell_type": "code",
   "execution_count": 10,
   "id": "8c7c2ab2",
   "metadata": {},
   "outputs": [
    {
     "data": {
      "text/plain": [
       "True"
      ]
     },
     "execution_count": 10,
     "metadata": {},
     "output_type": "execute_result"
    }
   ],
   "source": [
    "def check_date(date):\n",
    "    date_regex = re.compile(r'^(0[1-9]|[1-2][0-9]|3[0-1])/(0[1-9]|1[0-2])/([1-2][0-9]{3})$')\n",
    "    match = date_regex.search(date)\n",
    "    if match == None:\n",
    "        return False\n",
    "    day = int(match[1])\n",
    "    month = int(match[2])\n",
    "    year = int(match[3])\n",
    "    if (month == 4 or month == 6 or month == 9 or month == 11) and day > 30:\n",
    "        return False\n",
    "    if month == 2:\n",
    "        if day <= 28:\n",
    "            pass\n",
    "        elif day >=30:\n",
    "            return False\n",
    "        elif year % 4 == 0 and (year % 100 != 0 or (year % 100 == 0 and year % 400 == 0)):\n",
    "            pass\n",
    "        else:\n",
    "            return False\n",
    "    return True\n",
    "\n",
    "check_date('29/02/2000')"
   ]
  },
  {
   "cell_type": "code",
   "execution_count": 6,
   "id": "831f6437",
   "metadata": {},
   "outputs": [
    {
     "data": {
      "text/plain": [
       "True"
      ]
     },
     "execution_count": 6,
     "metadata": {},
     "output_type": "execute_result"
    }
   ],
   "source": [
    "def check_password_strength(password):\n",
    "    length_regex = re.compile(r'^[a-zA-Z0-9]{8,}$')\n",
    "    if length_regex.search(password) == None:\n",
    "        return False\n",
    "    lower_regex = re.compile(r'[a-z]')\n",
    "    if lower_regex.search(password) == None:\n",
    "        return False\n",
    "    upper_regex = re.compile(r'[A-Z]')\n",
    "    if upper_regex.search(password) == None:\n",
    "        return False\n",
    "    number_regex = re.compile(r'[0-9]')\n",
    "    if number_regex.search(password) == None:\n",
    "        return False\n",
    "    return True\n",
    "    \n",
    "check_password_strength('BlizzyBoy123')"
   ]
  },
  {
   "cell_type": "code",
   "execution_count": 7,
   "id": "0e5f2241",
   "metadata": {},
   "outputs": [
    {
     "data": {
      "text/plain": [
       "'  hi       '"
      ]
     },
     "execution_count": 7,
     "metadata": {},
     "output_type": "execute_result"
    }
   ],
   "source": [
    "def my_strip(text, remove=None):\n",
    "    if remove == None:\n",
    "        left_reg_exp = re.compile(r'^\\s*')\n",
    "        text = left_reg_exp.sub('', text)\n",
    "        right_reg_exp = re.compile(r'\\s*$')\n",
    "        text = right_reg_exp.sub('', text)\n",
    "    else:\n",
    "        remove_reg_exp = re.compile('[' + remove + ']')\n",
    "        text = remove_reg_exp.sub('', text)\n",
    "    return text\n",
    "\n",
    "my_strip(r'  hi      \\asdf ', r'\\\\fasdf')"
   ]
  },
  {
   "cell_type": "code",
   "execution_count": 9,
   "id": "8bc2bf86",
   "metadata": {},
   "outputs": [
    {
     "data": {
      "text/plain": [
       "'hi      \\\\asdf'"
      ]
     },
     "execution_count": 9,
     "metadata": {},
     "output_type": "execute_result"
    }
   ],
   "source": [
    "my_strip(r'     hi      \\asdf  ')"
   ]
  },
  {
   "cell_type": "code",
   "execution_count": null,
   "id": "2270dbd8",
   "metadata": {},
   "outputs": [],
   "source": []
  }
 ],
 "metadata": {
  "kernelspec": {
   "display_name": "Python 3 (ipykernel)",
   "language": "python",
   "name": "python3"
  },
  "language_info": {
   "codemirror_mode": {
    "name": "ipython",
    "version": 3
   },
   "file_extension": ".py",
   "mimetype": "text/x-python",
   "name": "python",
   "nbconvert_exporter": "python",
   "pygments_lexer": "ipython3",
   "version": "3.9.12"
  }
 },
 "nbformat": 4,
 "nbformat_minor": 5
}
