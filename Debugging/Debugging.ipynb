{
 "cells": [
  {
   "cell_type": "code",
   "execution_count": 4,
   "id": "e6030757",
   "metadata": {},
   "outputs": [],
   "source": [
    "spam = 'hi'\n",
    "\n",
    "assert not (isinstance(spam, int) and spam < 10)"
   ]
  },
  {
   "cell_type": "code",
   "execution_count": 7,
   "id": "5c13e4d5",
   "metadata": {},
   "outputs": [],
   "source": [
    "eggs = 'me'\n",
    "bacon = 'mee'\n",
    "\n",
    "assert eggs.lower() != bacon.lower()"
   ]
  },
  {
   "cell_type": "code",
   "execution_count": 8,
   "id": "4257aaff",
   "metadata": {},
   "outputs": [
    {
     "ename": "AssertionError",
     "evalue": "",
     "output_type": "error",
     "traceback": [
      "\u001b[1;31m---------------------------------------------------------------------------\u001b[0m",
      "\u001b[1;31mAssertionError\u001b[0m                            Traceback (most recent call last)",
      "Input \u001b[1;32mIn [8]\u001b[0m, in \u001b[0;36m<cell line: 1>\u001b[1;34m()\u001b[0m\n\u001b[1;32m----> 1\u001b[0m \u001b[38;5;28;01massert\u001b[39;00m \u001b[38;5;241m1\u001b[39m \u001b[38;5;241m==\u001b[39m \u001b[38;5;241m2\u001b[39m\n",
      "\u001b[1;31mAssertionError\u001b[0m: "
     ]
    }
   ],
   "source": [
    "assert 1 == 2"
   ]
  },
  {
   "cell_type": "code",
   "execution_count": 20,
   "id": "b8bb8a2e",
   "metadata": {},
   "outputs": [
    {
     "name": "stdout",
     "output_type": "stream",
     "text": [
      "Guess the coin toss! Enter heads or tails:\n",
      "heads\n",
      "Nope! Guess again!\n",
      "he\n",
      "Nope. You are really bad at this game.\n"
     ]
    }
   ],
   "source": [
    "import random\n",
    "guess = ''\n",
    "while guess not in ('heads', 'tails'):\n",
    "    print('Guess the coin toss! Enter heads or tails:')\n",
    "    guess = input()\n",
    "toss = random.choice(('heads', 'tails'))\n",
    "if guess == toss:\n",
    "    print('You got it!')\n",
    "else:\n",
    "    print('Nope! Guess again!')\n",
    "    guess = input()\n",
    "    if guess == toss:\n",
    "        print('You got it!')\n",
    "    else:\n",
    "        print('Nope. You are really bad at this game.')"
   ]
  },
  {
   "cell_type": "code",
   "execution_count": null,
   "id": "76ca7430",
   "metadata": {},
   "outputs": [],
   "source": []
  }
 ],
 "metadata": {
  "kernelspec": {
   "display_name": "Python 3 (ipykernel)",
   "language": "python",
   "name": "python3"
  },
  "language_info": {
   "codemirror_mode": {
    "name": "ipython",
    "version": 3
   },
   "file_extension": ".py",
   "mimetype": "text/x-python",
   "name": "python",
   "nbconvert_exporter": "python",
   "pygments_lexer": "ipython3",
   "version": "3.9.12"
  }
 },
 "nbformat": 4,
 "nbformat_minor": 5
}
