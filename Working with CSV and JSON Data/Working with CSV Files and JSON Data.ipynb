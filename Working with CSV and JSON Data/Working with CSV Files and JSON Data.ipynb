{
 "cells": [
  {
   "cell_type": "code",
   "execution_count": null,
   "id": "9d840d89",
   "metadata": {},
   "outputs": [],
   "source": [
    "# Excel to CSV converter"
   ]
  },
  {
   "cell_type": "code",
   "execution_count": 5,
   "id": "ee600bc8",
   "metadata": {},
   "outputs": [],
   "source": [
    "import os\n",
    "import openpyxl\n",
    "import csv\n",
    "import re"
   ]
  },
  {
   "cell_type": "code",
   "execution_count": 32,
   "id": "0c7793d2",
   "metadata": {},
   "outputs": [],
   "source": [
    "for file_name in os.listdir('.'):\n",
    "    if not file_name.endswith('.xlsx'):\n",
    "        continue\n",
    "    convert_workbook_to_csv_files('.', file_name)"
   ]
  },
  {
   "cell_type": "code",
   "execution_count": 31,
   "id": "e4da9b26",
   "metadata": {},
   "outputs": [],
   "source": [
    "def convert_workbook_to_csv_files(directory, file_name):\n",
    "    \n",
    "    new_directory_name = 'csv_files'\n",
    "    os.makedirs(os.path.join(directory, new_directory_name), exist_ok=True)\n",
    "    \n",
    "    workbook = openpyxl.load_workbook(os.path.join(directory, file_name), data_only=True)\n",
    "    \n",
    "    for sheet in workbook:\n",
    "        csv_file_name = os.path.join(directory, new_directory_name, file_name[:-5] + '_' + sheet.title + '.csv')\n",
    "        \n",
    "        with open(csv_file_name, 'w', newline='') as csv_file:\n",
    "            csv_writer = csv.writer(csv_file)\n",
    "            \n",
    "            for row in list(sheet.rows):\n",
    "                row = [cell.value for cell in row]\n",
    "                csv_writer.writerow(row)"
   ]
  },
  {
   "cell_type": "code",
   "execution_count": null,
   "id": "67d390bb",
   "metadata": {},
   "outputs": [],
   "source": []
  }
 ],
 "metadata": {
  "kernelspec": {
   "display_name": "Python 3 (ipykernel)",
   "language": "python",
   "name": "python3"
  },
  "language_info": {
   "codemirror_mode": {
    "name": "ipython",
    "version": 3
   },
   "file_extension": ".py",
   "mimetype": "text/x-python",
   "name": "python",
   "nbconvert_exporter": "python",
   "pygments_lexer": "ipython3",
   "version": "3.9.12"
  }
 },
 "nbformat": 4,
 "nbformat_minor": 5
}
